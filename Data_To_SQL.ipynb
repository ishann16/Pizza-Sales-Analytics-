{
 "cells": [
  {
   "cell_type": "code",
   "execution_count": null,
   "id": "310aa27e-8020-4346-8c8d-e89e9d9225c2",
   "metadata": {},
   "outputs": [],
   "source": []
  }
 ],
 "metadata": {
  "kernelspec": {
   "display_name": "",
   "name": ""
  },
  "language_info": {
   "name": ""
  }
 },
 "nbformat": 4,
 "nbformat_minor": 5
}
